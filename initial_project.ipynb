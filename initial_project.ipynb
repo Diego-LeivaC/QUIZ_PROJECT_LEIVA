{
 "cells": [
  {
   "cell_type": "markdown",
   "metadata": {},
   "source": [
    "My procedure:\n",
    "1. Import pandas and numpy\n",
    "2. "
   ]
  }
 ],
 "metadata": {
  "language_info": {
   "name": "python"
  }
 },
 "nbformat": 4,
 "nbformat_minor": 2
}
