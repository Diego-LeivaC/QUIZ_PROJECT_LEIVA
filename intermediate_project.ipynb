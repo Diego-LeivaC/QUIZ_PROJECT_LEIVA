{
 "cells": [
  {
   "cell_type": "markdown",
   "metadata": {},
   "source": [
    "2. Select relevant attributes from the IMDb dataset and reload."
   ]
  },
  {
   "cell_type": "code",
   "execution_count": 1,
   "metadata": {},
   "outputs": [],
   "source": [
    "import pandas as pd \n",
    "import numpy as np "
   ]
  },
  {
   "cell_type": "code",
   "execution_count": 4,
   "metadata": {},
   "outputs": [],
   "source": [
    "name_basics = pd.read_csv('data/name.basics.tsv', sep = '\\t', usecols=['nconst', 'primaryName', 'primaryProfession', 'knownForTitles'])"
   ]
  },
  {
   "cell_type": "code",
   "execution_count": 5,
   "metadata": {},
   "outputs": [],
   "source": [
    "title_basics = pd.read_csv('data/title.basics.tsv', sep = '\\t', usecols=['tconst', 'titleType', 'primaryTitle', 'genres'])"
   ]
  },
  {
   "cell_type": "code",
   "execution_count": 6,
   "metadata": {},
   "outputs": [
    {
     "name": "stdout",
     "output_type": "stream",
     "text": [
      "titleType categories: ['short' 'movie' 'tvShort' 'tvMovie' 'tvEpisode' 'tvSeries' 'tvMiniSeries'\n",
      " 'tvSpecial' 'video' 'videoGame' 'tvPilot']\n",
      "Genres categories: ['Documentary,Short' 'Animation,Short' 'Animation,Comedy,Romance' ...\n",
      " 'Biography,Crime,Fantasy' 'Mystery,Reality-TV,Thriller'\n",
      " 'Musical,Reality-TV,Talk-Show']\n"
     ]
    }
   ],
   "source": [
    "title_types = title_basics['titleType'].unique()\n",
    "print(\"titleType categories:\", title_types)\n",
    "\n",
    "genres = title_basics['genres'].unique()\n",
    "print(\"Genres categories:\", genres)"
   ]
  },
  {
   "cell_type": "markdown",
   "metadata": {},
   "source": [
    "My quiz is focus only in titleType category: 'movie'"
   ]
  },
  {
   "cell_type": "code",
   "execution_count": null,
   "metadata": {},
   "outputs": [
    {
     "name": "stdout",
     "output_type": "stream",
     "text": [
      "Unique genres movies: ['Romance' 'Documentary' 'News' 'Sport' '\\\\N' 'Action' 'Adventure'\n",
      " 'Biography' 'Drama' 'Fantasy' 'Comedy' 'War' 'Crime' 'Family' 'History'\n",
      " 'Sci-Fi' 'Thriller' 'Western' 'Mystery' 'Horror' 'Music' 'Animation'\n",
      " 'Musical' 'Film-Noir' 'Talk-Show' 'Adult' 'Reality-TV' 'Game-Show']\n"
     ]
    }
   ],
   "source": [
    "movies = title_basics[title_basics['titleType'] == 'movie']\n",
    "unique_genres_movies = movies['genres'].str.split(',').explode().dropna().unique()\n",
    "print(\"Unique genres movies:\", unique_genres_movies)"
   ]
  },
  {
   "cell_type": "markdown",
   "metadata": {},
   "source": [
    "My quiz is not focus on the following unique genres categories: 'News', '\\\\N', 'Animation', 'Film-Noir, 'Talk-Show, 'Adult', 'Reality-TV', 'Game-Show'"
   ]
  },
  {
   "cell_type": "code",
   "execution_count": 10,
   "metadata": {},
   "outputs": [],
   "source": [
    "title_crew = pd.read_csv('data/title.crew.tsv', sep = '\\t', usecols=['tconst', 'directors'])"
   ]
  },
  {
   "cell_type": "code",
   "execution_count": 11,
   "metadata": {},
   "outputs": [],
   "source": [
    "title_ratings = pd.read_csv('data/title.ratings.tsv', sep = '\\t')"
   ]
  },
  {
   "cell_type": "code",
   "execution_count": 12,
   "metadata": {},
   "outputs": [],
   "source": [
    "title_principals = pd.read_csv('data/title.principals.tsv', sep = '\\t', usecols=['tconst', 'ordering', 'nconst', 'category'])"
   ]
  }
 ],
 "metadata": {
  "kernelspec": {
   "display_name": "data_diego",
   "language": "python",
   "name": "python3"
  },
  "language_info": {
   "codemirror_mode": {
    "name": "ipython",
    "version": 3
   },
   "file_extension": ".py",
   "mimetype": "text/x-python",
   "name": "python",
   "nbconvert_exporter": "python",
   "pygments_lexer": "ipython3",
   "version": "3.12.7"
  }
 },
 "nbformat": 4,
 "nbformat_minor": 2
}
