{
 "cells": [
  {
   "cell_type": "markdown",
   "metadata": {},
   "source": [
    "2. Select relevant attributes from the IMDb dataset and reload."
   ]
  },
  {
   "cell_type": "code",
   "execution_count": 20,
   "metadata": {},
   "outputs": [],
   "source": [
    "import pandas as pd \n",
    "import numpy as np \n",
    "import time"
   ]
  },
  {
   "cell_type": "code",
   "execution_count": 4,
   "metadata": {},
   "outputs": [],
   "source": [
    "name_basics = pd.read_csv('data/name.basics.tsv', sep = '\\t', usecols=['nconst', 'primaryName', 'primaryProfession', 'knownForTitles'])"
   ]
  },
  {
   "cell_type": "code",
   "execution_count": 14,
   "metadata": {},
   "outputs": [
    {
     "name": "stdout",
     "output_type": "stream",
     "text": [
      "primary_profession types: ['actor,miscellaneous,producer' 'actress,soundtrack,archive_footage'\n",
      " 'actress,music_department,producer' ... 'stunts,publicist,executive'\n",
      " 'costume_department,camera_department,location_management'\n",
      " 'composer,director,archive_footage']\n"
     ]
    }
   ],
   "source": [
    "primary_profession = name_basics['primaryProfession'].unique()\n",
    "print(\"primary_profession types:\", primary_profession)"
   ]
  },
  {
   "cell_type": "code",
   "execution_count": 15,
   "metadata": {},
   "outputs": [
    {
     "name": "stdout",
     "output_type": "stream",
     "text": [
      "Unique primary professions: ['actor' 'miscellaneous' 'producer' 'actress' 'soundtrack'\n",
      " 'archive_footage' 'music_department' 'writer' 'director' 'stunts'\n",
      " 'make_up_department' 'composer' 'assistant_director' 'camera_department'\n",
      " 'music_artist' 'art_department' 'editor' 'cinematographer'\n",
      " 'casting_director' 'executive' 'costume_designer' 'script_department'\n",
      " 'art_director' 'editorial_department' 'costume_department'\n",
      " 'animation_department' 'talent_agent' 'archive_sound'\n",
      " 'production_designer' 'special_effects' 'production_manager'\n",
      " 'sound_department' 'casting_department' 'visual_effects'\n",
      " 'location_management' 'set_decorator' 'transportation_department' '\\\\N'\n",
      " 'choreographer' 'legal' 'manager' 'publicist' 'podcaster' 'assistant'\n",
      " 'production_department' 'accountant' 'electrical_department']\n"
     ]
    }
   ],
   "source": [
    "unique_primary_professions = name_basics['primaryProfession'].str.split(',').explode().unique()\n",
    "print(\"Unique primary professions:\", unique_primary_professions)"
   ]
  },
  {
   "cell_type": "code",
   "execution_count": 5,
   "metadata": {},
   "outputs": [],
   "source": [
    "title_basics = pd.read_csv('data/title.basics.tsv', sep = '\\t', usecols=['tconst', 'titleType', 'primaryTitle', 'genres'])"
   ]
  },
  {
   "cell_type": "code",
   "execution_count": 6,
   "metadata": {},
   "outputs": [
    {
     "name": "stdout",
     "output_type": "stream",
     "text": [
      "titleType categories: ['short' 'movie' 'tvShort' 'tvMovie' 'tvEpisode' 'tvSeries' 'tvMiniSeries'\n",
      " 'tvSpecial' 'video' 'videoGame' 'tvPilot']\n",
      "Genres categories: ['Documentary,Short' 'Animation,Short' 'Animation,Comedy,Romance' ...\n",
      " 'Biography,Crime,Fantasy' 'Mystery,Reality-TV,Thriller'\n",
      " 'Musical,Reality-TV,Talk-Show']\n"
     ]
    }
   ],
   "source": [
    "title_types = title_basics['titleType'].unique()\n",
    "print(\"titleType categories:\", title_types)\n",
    "\n",
    "genres = title_basics['genres'].unique()\n",
    "print(\"Genres categories:\", genres)"
   ]
  },
  {
   "cell_type": "markdown",
   "metadata": {},
   "source": [
    "My quiz is focus only in titleType category: 'movie'"
   ]
  },
  {
   "cell_type": "code",
   "execution_count": null,
   "metadata": {},
   "outputs": [
    {
     "name": "stdout",
     "output_type": "stream",
     "text": [
      "Unique genres movies: ['Romance' 'Documentary' 'News' 'Sport' '\\\\N' 'Action' 'Adventure'\n",
      " 'Biography' 'Drama' 'Fantasy' 'Comedy' 'War' 'Crime' 'Family' 'History'\n",
      " 'Sci-Fi' 'Thriller' 'Western' 'Mystery' 'Horror' 'Music' 'Animation'\n",
      " 'Musical' 'Film-Noir' 'Talk-Show' 'Adult' 'Reality-TV' 'Game-Show']\n"
     ]
    }
   ],
   "source": [
    "movies = title_basics[title_basics['titleType'] == 'movie']\n",
    "unique_genres_movies = movies['genres'].str.split(',').explode().dropna().unique()\n",
    "print(\"Unique genres movies:\", unique_genres_movies)"
   ]
  },
  {
   "cell_type": "markdown",
   "metadata": {},
   "source": [
    "My quiz is not focus on the following unique genres categories: 'News', '\\\\N', 'Animation', 'Film-Noir, 'Talk-Show, 'Adult', 'Reality-TV', 'Game-Show'"
   ]
  },
  {
   "cell_type": "code",
   "execution_count": 30,
   "metadata": {},
   "outputs": [],
   "source": [
    "filtered_titles = title_basics[\n",
    "    (title_basics['titleType'] == 'movie') & \n",
    "    (~title_basics['genres'].str.contains(r'Animation|News|\\\\N|Film-Noir|Talk-Show|Adult|Reality-TV|Game-Show', na=False, regex=True))\n",
    "]"
   ]
  },
  {
   "cell_type": "code",
   "execution_count": 10,
   "metadata": {},
   "outputs": [],
   "source": [
    "title_crew = pd.read_csv('data/title.crew.tsv', sep = '\\t', usecols=['tconst', 'directors'])"
   ]
  },
  {
   "cell_type": "code",
   "execution_count": 11,
   "metadata": {},
   "outputs": [],
   "source": [
    "title_ratings = pd.read_csv('data/title.ratings.tsv', sep = '\\t')"
   ]
  },
  {
   "cell_type": "code",
   "execution_count": 12,
   "metadata": {},
   "outputs": [],
   "source": [
    "title_principals = pd.read_csv('data/title.principals.tsv', sep = '\\t', usecols=['tconst', 'ordering', 'nconst', 'category'])"
   ]
  },
  {
   "cell_type": "code",
   "execution_count": 19,
   "metadata": {},
   "outputs": [
    {
     "name": "stdout",
     "output_type": "stream",
     "text": [
      "88962941\n",
      "4\n"
     ]
    }
   ],
   "source": [
    "num_rows = title_principals.shape[0]\n",
    "num_columns = title_principals.shape[1]\n",
    "print(num_rows)\n",
    "print(num_columns)"
   ]
  },
  {
   "cell_type": "code",
   "execution_count": 16,
   "metadata": {},
   "outputs": [
    {
     "name": "stdout",
     "output_type": "stream",
     "text": [
      "['self' 'director' 'producer' 'cinematographer' 'composer' 'editor'\n",
      " 'actor' 'actress' 'writer' 'production_designer' 'archive_footage'\n",
      " 'casting_director' 'archive_sound']\n"
     ]
    }
   ],
   "source": [
    "categories = title_principals['category'].unique()\n",
    "print(categories)"
   ]
  },
  {
   "cell_type": "code",
   "execution_count": 24,
   "metadata": {},
   "outputs": [
    {
     "name": "stdout",
     "output_type": "stream",
     "text": [
      "Chunk_size time=500000: 152.55 seconds\n",
      "Chunk_size time=5000: 166.42 seconds\n",
      "Chunk_size time=200000: 86.73 seconds\n"
     ]
    }
   ],
   "source": [
    "\n",
    "chunk_sizes = [500000, 5000, 200000]\n",
    "\n",
    "for chunk_size in chunk_sizes:\n",
    "    start_time = time.time()\n",
    "    for chunk in pd.read_csv('data/title.principals.tsv', sep='\\t', chunksize=chunk_size):\n",
    "        pass \n",
    "    end_time = time.time()\n",
    "    print(f\"Chunk_size time={chunk_size}: {end_time - start_time:.2f} seconds\")\n"
   ]
  },
  {
   "cell_type": "code",
   "execution_count": 28,
   "metadata": {},
   "outputs": [],
   "source": [
    "filtered_title_principals = title_principals[title_principals['category'].isin(['actor', 'actress', 'director'])]"
   ]
  },
  {
   "cell_type": "markdown",
   "metadata": {},
   "source": [
    "3. Define the structure of the quiz"
   ]
  },
  {
   "cell_type": "code",
   "execution_count": 3,
   "metadata": {},
   "outputs": [
    {
     "name": "stdout",
     "output_type": "stream",
     "text": [
      "Top 10 movies with higher numVotes:\n",
      "                                             primaryTitle  averageRating  \\\n",
      "59128                            The Shawshank Redemption            9.3   \n",
      "126328                                    The Dark Knight            9.0   \n",
      "165886                                          Inception            8.8   \n",
      "67896                                          Fight Club            8.8   \n",
      "58424                                        Forrest Gump            8.8   \n",
      "58990                                        Pulp Fiction            8.9   \n",
      "131941                                       Interstellar            8.7   \n",
      "66852                                          The Matrix            8.7   \n",
      "35562                                       The Godfather            9.2   \n",
      "63626   The Lord of the Rings: The Fellowship of the Ring            8.9   \n",
      "\n",
      "        numVotes  \n",
      "59128    2959184  \n",
      "126328   2940814  \n",
      "165886   2609684  \n",
      "67896    2391254  \n",
      "58424    2315661  \n",
      "58990    2272444  \n",
      "131941   2188340  \n",
      "66852    2101020  \n",
      "35562    2063067  \n",
      "63626    2055641  \n"
     ]
    }
   ],
   "source": [
    "import pandas as pd\n",
    "\n",
    "title_basics = pd.read_csv('data/title.basics.tsv', sep='\\t', usecols=['tconst', 'titleType', 'primaryTitle', 'genres'])\n",
    "title_ratings = pd.read_csv('data/title.ratings.tsv', sep='\\t')\n",
    "\n",
    "filtered_titles = title_basics[\n",
    "    (title_basics['titleType'] == 'movie') &\n",
    "    (~title_basics['genres'].str.contains(r'Animation|News|\\\\N|Film-Noir|Talk-Show|Adult|Reality-TV|Game-Show', na=False, regex=True))\n",
    "]\n",
    "\n",
    "filtered_movies_with_ratings = filtered_titles.merge(title_ratings, on='tconst', how='inner')\n",
    "\n",
    "#top_10_average = filtered_movies_with_ratings.nlargest(10, 'averageRating')\n",
    "#print(\"Top 10 movies with higher averageRating:\")\n",
    "#print(top_10_average[['primaryTitle', 'averageRating', 'numVotes']])\n",
    "\n",
    "top_10_votes = filtered_movies_with_ratings.nlargest(10, 'numVotes')\n",
    "print(\"Top 10 movies with higher numVotes:\")\n",
    "print(top_10_votes[['primaryTitle', 'averageRating', 'numVotes']])\n"
   ]
  },
  {
   "cell_type": "code",
   "execution_count": null,
   "metadata": {},
   "outputs": [
    {
     "name": "stdout",
     "output_type": "stream",
     "text": [
      "                                     primaryTitle  averageRating  numVotes\n",
      "59128                    The Shawshank Redemption            9.3   2959184\n",
      "126328                            The Dark Knight            9.0   2940814\n",
      "165886                                  Inception            8.8   2609684\n",
      "67896                                  Fight Club            8.8   2391254\n",
      "58424                                Forrest Gump            8.8   2315661\n",
      "...                                           ...            ...       ...\n",
      "90333       Harry Potter and the Sorcerer's Stone            7.6    877801\n",
      "119989                                        300            7.6    877100\n",
      "278721           Once Upon a Time... in Hollywood            7.6    876393\n",
      "63740   Star Wars: Episode I - The Phantom Menace            6.5    875050\n",
      "62439                            The Big Lebowski            8.1    874795\n",
      "\n",
      "[100 rows x 3 columns]\n",
      "                      primaryTitle  averageRating  numVotes\n",
      "171833                     Gravity            7.7    872395\n",
      "241741  Captain America: Civil War            7.8    869362\n",
      "238973                       Logan            8.1    866153\n",
      "91468                 Donnie Darko            8.0    865872\n",
      "146530                The Hangover            7.7    865570\n",
      "...                            ...            ...       ...\n",
      "60698                   12 Monkeys            8.0    655545\n",
      "112958                      Oldboy            8.3    655034\n",
      "126437         There Will Be Blood            8.2    654216\n",
      "119601                Spider-Man 3            6.3    652863\n",
      "72762                    Cast Away            7.8    651259\n",
      "\n",
      "[100 rows x 3 columns]\n",
      "                                     primaryTitle  averageRating  numVotes\n",
      "132524                                   Superbad            7.6    648176\n",
      "114448  Harry Potter and the Order of the Phoenix            7.5    648171\n",
      "138758                                       Argo            7.7    645729\n",
      "135251                                      Taken            7.7    644708\n",
      "39578                                       Rocky            8.1    643441\n",
      "...                                           ...            ...       ...\n",
      "235439    Fantastic Beasts and Where to Find Them            7.2    515915\n",
      "49107                                     Top Gun            6.9    514941\n",
      "184044                   Avatar: The Way of Water            7.5    514526\n",
      "196889      The Hunger Games: Mockingjay - Part 1            6.6    513518\n",
      "195159                                  Spotlight            8.1    509645\n",
      "\n",
      "[100 rows x 3 columns]\n"
     ]
    }
   ],
   "source": [
    "top_300_votes = filtered_movies_with_ratings.nlargest(300, 'numVotes')\n",
    "\n",
    "#easy_category = top_300_votes.iloc[0:100]\n",
    "#print(easy_category[['primaryTitle', 'averageRating', 'numVotes']])\n",
    "\n",
    "#medium_category = top_300_votes.iloc[100:200]\n",
    "#print(medium_category[['primaryTitle', 'averageRating', 'numVotes']])\n",
    "\n",
    "#hard_category = top_300_votes.iloc[200:300]\n",
    "#print(hard_category[['primaryTitle', 'averageRating', 'numVotes']])\n"
   ]
  },
  {
   "cell_type": "code",
   "execution_count": 6,
   "metadata": {},
   "outputs": [
    {
     "name": "stdout",
     "output_type": "stream",
     "text": [
      "                                     primaryTitle  averageRating  numVotes\n",
      "132524                                   Superbad            7.6    648176\n",
      "114448  Harry Potter and the Order of the Phoenix            7.5    648171\n",
      "138758                                       Argo            7.7    645729\n",
      "135251                                      Taken            7.7    644708\n",
      "39578                                       Rocky            8.1    643441\n",
      "...                                           ...            ...       ...\n",
      "235439    Fantastic Beasts and Where to Find Them            7.2    515915\n",
      "49107                                     Top Gun            6.9    514941\n",
      "184044                   Avatar: The Way of Water            7.5    514526\n",
      "196889      The Hunger Games: Mockingjay - Part 1            6.6    513518\n",
      "195159                                  Spotlight            8.1    509645\n",
      "\n",
      "[100 rows x 3 columns]\n"
     ]
    }
   ],
   "source": [
    "hard_category = top_300_votes.iloc[200:300]\n",
    "print(hard_category[['primaryTitle', 'averageRating', 'numVotes']])"
   ]
  },
  {
   "cell_type": "code",
   "execution_count": 7,
   "metadata": {},
   "outputs": [],
   "source": [
    "top_450_votes = filtered_movies_with_ratings.nlargest(450, 'numVotes')"
   ]
  },
  {
   "cell_type": "code",
   "execution_count": 8,
   "metadata": {},
   "outputs": [
    {
     "name": "stdout",
     "output_type": "stream",
     "text": [
      "                                         primaryTitle  averageRating  numVotes\n",
      "15547                           It's a Wonderful Life            8.6    508186\n",
      "217774  Star Wars: Episode IX - The Rise of Skywalker            6.4    505519\n",
      "158941                                        Warrior            8.1    505134\n",
      "191182                                American Hustle            7.2    505076\n",
      "112576                                   The Terminal            7.4    504886\n",
      "...                                               ...            ...       ...\n",
      "283959                                     Hereditary            7.3    399909\n",
      "206840                                     About Time            7.8    399696\n",
      "222952                                       Bird Box            6.6    397133\n",
      "107428                                    Man on Fire            7.7    397085\n",
      "105903                        Mission: Impossible III            6.9    396773\n",
      "\n",
      "[150 rows x 3 columns]\n"
     ]
    }
   ],
   "source": [
    "hard_category = top_450_votes.iloc[300:450]\n",
    "print(hard_category[['primaryTitle', 'averageRating', 'numVotes']])"
   ]
  },
  {
   "cell_type": "markdown",
   "metadata": {},
   "source": [
    "Let's reload with the desired attributes"
   ]
  },
  {
   "cell_type": "code",
   "execution_count": 3,
   "metadata": {},
   "outputs": [],
   "source": [
    "\n",
    "import pandas as pd \n",
    "import numpy as np\n",
    "\n",
    "name_basics = pd.read_csv('data/name.basics.tsv', sep = '\\t', usecols=['nconst', 'primaryName', 'primaryProfession', 'knownForTitles'])\n",
    "title_basics = pd.read_csv('data/title.basics.tsv', sep = '\\t', usecols=['tconst', 'titleType', 'primaryTitle', 'genres'])\n",
    "title_ratings = pd.read_csv('data/title.ratings.tsv', sep = '\\t', usecols=['tconst', 'numVotes'])\n",
    "title_principals = pd.read_csv('data/title.principals.tsv', sep = '\\t', usecols=['tconst', 'ordering', 'nconst', 'category'])"
   ]
  },
  {
   "cell_type": "code",
   "execution_count": 4,
   "metadata": {},
   "outputs": [],
   "source": [
    "# Filter only movies and the desired categories\n",
    "filtered_titles = title_basics[(title_basics['titleType'] == 'movie')]\n",
    "filtered_title_principals = title_principals[title_principals['category'].isin(['actor', 'actress', 'director'])]\n",
    "filtered_movies_with_ratings = filtered_titles.merge(title_ratings, on='tconst', how='inner')"
   ]
  },
  {
   "cell_type": "markdown",
   "metadata": {},
   "source": [
    "Three levels of difficulty: easy, medium and hard."
   ]
  },
  {
   "cell_type": "code",
   "execution_count": 5,
   "metadata": {},
   "outputs": [],
   "source": [
    "\n",
    "# Order the films by the number of votes and select the top 450.\n",
    "top_450_votes = filtered_movies_with_ratings.nlargest(450, 'numVotes')\n",
    "\n",
    "# Divide by level of dificulty\n",
    "easy = top_450_votes.iloc[0:150]\n",
    "medium = top_450_votes.iloc[150:300]\n",
    "hard = top_450_votes.iloc[300:450]"
   ]
  },
  {
   "cell_type": "code",
   "execution_count": 6,
   "metadata": {},
   "outputs": [],
   "source": [
    "# Join revelant data for the quiz\n",
    "movie_data = filtered_title_principals.merge(name_basics, on='nconst', how='inner')"
   ]
  },
  {
   "cell_type": "code",
   "execution_count": 7,
   "metadata": {},
   "outputs": [],
   "source": [
    "# Definition of points from each dificulty\n",
    "def get_questions(level):\n",
    "    if level == 'easy':\n",
    "        movies = easy\n",
    "        points = 10\n",
    "    elif level == 'medium':\n",
    "        movies = medium\n",
    "        points = 20\n",
    "    elif level == 'hard':\n",
    "        movies = hard\n",
    "        points = 30\n",
    "    else:\n",
    "        print(\"Invalid level selected. Please choose easy, medium, or hard.\")\n",
    "        return"
   ]
  }
 ],
 "metadata": {
  "kernelspec": {
   "display_name": "data_diego",
   "language": "python",
   "name": "python3"
  },
  "language_info": {
   "codemirror_mode": {
    "name": "ipython",
    "version": 3
   },
   "file_extension": ".py",
   "mimetype": "text/x-python",
   "name": "python",
   "nbconvert_exporter": "python",
   "pygments_lexer": "ipython3",
   "version": "3.12.7"
  }
 },
 "nbformat": 4,
 "nbformat_minor": 2
}
