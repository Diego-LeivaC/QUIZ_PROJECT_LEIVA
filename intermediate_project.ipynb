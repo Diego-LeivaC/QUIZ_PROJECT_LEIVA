{
 "cells": [
  {
   "cell_type": "markdown",
   "metadata": {},
   "source": [
    "2. Select relevant attributes from the IMDb dataset and reload."
   ]
  },
  {
   "cell_type": "code",
   "execution_count": 20,
   "metadata": {},
   "outputs": [],
   "source": [
    "import pandas as pd \n",
    "import numpy as np \n",
    "import time"
   ]
  },
  {
   "cell_type": "code",
   "execution_count": 4,
   "metadata": {},
   "outputs": [],
   "source": [
    "name_basics = pd.read_csv('data/name.basics.tsv', sep = '\\t', usecols=['nconst', 'primaryName', 'primaryProfession', 'knownForTitles'])"
   ]
  },
  {
   "cell_type": "code",
   "execution_count": 14,
   "metadata": {},
   "outputs": [
    {
     "name": "stdout",
     "output_type": "stream",
     "text": [
      "primary_profession types: ['actor,miscellaneous,producer' 'actress,soundtrack,archive_footage'\n",
      " 'actress,music_department,producer' ... 'stunts,publicist,executive'\n",
      " 'costume_department,camera_department,location_management'\n",
      " 'composer,director,archive_footage']\n"
     ]
    }
   ],
   "source": [
    "primary_profession = name_basics['primaryProfession'].unique()\n",
    "print(\"primary_profession types:\", primary_profession)"
   ]
  },
  {
   "cell_type": "code",
   "execution_count": 15,
   "metadata": {},
   "outputs": [
    {
     "name": "stdout",
     "output_type": "stream",
     "text": [
      "Unique primary professions: ['actor' 'miscellaneous' 'producer' 'actress' 'soundtrack'\n",
      " 'archive_footage' 'music_department' 'writer' 'director' 'stunts'\n",
      " 'make_up_department' 'composer' 'assistant_director' 'camera_department'\n",
      " 'music_artist' 'art_department' 'editor' 'cinematographer'\n",
      " 'casting_director' 'executive' 'costume_designer' 'script_department'\n",
      " 'art_director' 'editorial_department' 'costume_department'\n",
      " 'animation_department' 'talent_agent' 'archive_sound'\n",
      " 'production_designer' 'special_effects' 'production_manager'\n",
      " 'sound_department' 'casting_department' 'visual_effects'\n",
      " 'location_management' 'set_decorator' 'transportation_department' '\\\\N'\n",
      " 'choreographer' 'legal' 'manager' 'publicist' 'podcaster' 'assistant'\n",
      " 'production_department' 'accountant' 'electrical_department']\n"
     ]
    }
   ],
   "source": [
    "unique_primary_professions = name_basics['primaryProfession'].str.split(',').explode().unique()\n",
    "print(\"Unique primary professions:\", unique_primary_professions)"
   ]
  },
  {
   "cell_type": "code",
   "execution_count": 5,
   "metadata": {},
   "outputs": [],
   "source": [
    "title_basics = pd.read_csv('data/title.basics.tsv', sep = '\\t', usecols=['tconst', 'titleType', 'primaryTitle', 'genres'])"
   ]
  },
  {
   "cell_type": "code",
   "execution_count": 6,
   "metadata": {},
   "outputs": [
    {
     "name": "stdout",
     "output_type": "stream",
     "text": [
      "titleType categories: ['short' 'movie' 'tvShort' 'tvMovie' 'tvEpisode' 'tvSeries' 'tvMiniSeries'\n",
      " 'tvSpecial' 'video' 'videoGame' 'tvPilot']\n",
      "Genres categories: ['Documentary,Short' 'Animation,Short' 'Animation,Comedy,Romance' ...\n",
      " 'Biography,Crime,Fantasy' 'Mystery,Reality-TV,Thriller'\n",
      " 'Musical,Reality-TV,Talk-Show']\n"
     ]
    }
   ],
   "source": [
    "title_types = title_basics['titleType'].unique()\n",
    "print(\"titleType categories:\", title_types)\n",
    "\n",
    "genres = title_basics['genres'].unique()\n",
    "print(\"Genres categories:\", genres)"
   ]
  },
  {
   "cell_type": "markdown",
   "metadata": {},
   "source": [
    "My quiz is focus only in titleType category: 'movie'"
   ]
  },
  {
   "cell_type": "code",
   "execution_count": null,
   "metadata": {},
   "outputs": [
    {
     "name": "stdout",
     "output_type": "stream",
     "text": [
      "Unique genres movies: ['Romance' 'Documentary' 'News' 'Sport' '\\\\N' 'Action' 'Adventure'\n",
      " 'Biography' 'Drama' 'Fantasy' 'Comedy' 'War' 'Crime' 'Family' 'History'\n",
      " 'Sci-Fi' 'Thriller' 'Western' 'Mystery' 'Horror' 'Music' 'Animation'\n",
      " 'Musical' 'Film-Noir' 'Talk-Show' 'Adult' 'Reality-TV' 'Game-Show']\n"
     ]
    }
   ],
   "source": [
    "movies = title_basics[title_basics['titleType'] == 'movie']\n",
    "unique_genres_movies = movies['genres'].str.split(',').explode().dropna().unique()\n",
    "print(\"Unique genres movies:\", unique_genres_movies)"
   ]
  },
  {
   "cell_type": "markdown",
   "metadata": {},
   "source": [
    "My quiz is not focus on the following unique genres categories: 'News', '\\\\N', 'Animation', 'Film-Noir, 'Talk-Show, 'Adult', 'Reality-TV', 'Game-Show'"
   ]
  },
  {
   "cell_type": "code",
   "execution_count": 30,
   "metadata": {},
   "outputs": [],
   "source": [
    "filtered_titles = title_basics[\n",
    "    (title_basics['titleType'] == 'movie') & \n",
    "    (~title_basics['genres'].str.contains(r'Animation|News|\\\\N|Film-Noir|Talk-Show|Adult|Reality-TV|Game-Show', na=False, regex=True))\n",
    "]"
   ]
  },
  {
   "cell_type": "code",
   "execution_count": 10,
   "metadata": {},
   "outputs": [],
   "source": [
    "title_crew = pd.read_csv('data/title.crew.tsv', sep = '\\t', usecols=['tconst', 'directors'])"
   ]
  },
  {
   "cell_type": "code",
   "execution_count": 11,
   "metadata": {},
   "outputs": [],
   "source": [
    "title_ratings = pd.read_csv('data/title.ratings.tsv', sep = '\\t')"
   ]
  },
  {
   "cell_type": "code",
   "execution_count": 12,
   "metadata": {},
   "outputs": [],
   "source": [
    "title_principals = pd.read_csv('data/title.principals.tsv', sep = '\\t', usecols=['tconst', 'ordering', 'nconst', 'category'])"
   ]
  },
  {
   "cell_type": "code",
   "execution_count": 19,
   "metadata": {},
   "outputs": [
    {
     "name": "stdout",
     "output_type": "stream",
     "text": [
      "88962941\n",
      "4\n"
     ]
    }
   ],
   "source": [
    "num_rows = title_principals.shape[0]\n",
    "num_columns = title_principals.shape[1]\n",
    "print(num_rows)\n",
    "print(num_columns)"
   ]
  },
  {
   "cell_type": "code",
   "execution_count": 16,
   "metadata": {},
   "outputs": [
    {
     "name": "stdout",
     "output_type": "stream",
     "text": [
      "['self' 'director' 'producer' 'cinematographer' 'composer' 'editor'\n",
      " 'actor' 'actress' 'writer' 'production_designer' 'archive_footage'\n",
      " 'casting_director' 'archive_sound']\n"
     ]
    }
   ],
   "source": [
    "categories = title_principals['category'].unique()\n",
    "print(categories)"
   ]
  },
  {
   "cell_type": "code",
   "execution_count": 24,
   "metadata": {},
   "outputs": [
    {
     "name": "stdout",
     "output_type": "stream",
     "text": [
      "Chunk_size time=500000: 152.55 seconds\n",
      "Chunk_size time=5000: 166.42 seconds\n",
      "Chunk_size time=200000: 86.73 seconds\n"
     ]
    }
   ],
   "source": [
    "\n",
    "chunk_sizes = [500000, 5000, 200000]\n",
    "\n",
    "for chunk_size in chunk_sizes:\n",
    "    start_time = time.time()\n",
    "    for chunk in pd.read_csv('data/title.principals.tsv', sep='\\t', chunksize=chunk_size):\n",
    "        pass \n",
    "    end_time = time.time()\n",
    "    print(f\"Chunk_size time={chunk_size}: {end_time - start_time:.2f} seconds\")\n"
   ]
  },
  {
   "cell_type": "code",
   "execution_count": 28,
   "metadata": {},
   "outputs": [],
   "source": [
    "filtered_title_principals = title_principals[title_principals['category'].isin(['actor', 'actress', 'director'])]"
   ]
  }
 ],
 "metadata": {
  "kernelspec": {
   "display_name": "data_diego",
   "language": "python",
   "name": "python3"
  },
  "language_info": {
   "codemirror_mode": {
    "name": "ipython",
    "version": 3
   },
   "file_extension": ".py",
   "mimetype": "text/x-python",
   "name": "python",
   "nbconvert_exporter": "python",
   "pygments_lexer": "ipython3",
   "version": "3.12.7"
  }
 },
 "nbformat": 4,
 "nbformat_minor": 2
}
