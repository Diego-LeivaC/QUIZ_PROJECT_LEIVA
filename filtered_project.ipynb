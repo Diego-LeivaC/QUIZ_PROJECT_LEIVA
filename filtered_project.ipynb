{
 "cells": [
  {
   "cell_type": "code",
   "execution_count": 1,
   "metadata": {},
   "outputs": [],
   "source": [
    "import pandas as pd"
   ]
  },
  {
   "cell_type": "code",
   "execution_count": 2,
   "metadata": {},
   "outputs": [],
   "source": [
    "title_ratings = pd.read_csv('data/title.ratings.tsv', sep = '\\t', usecols=['tconst', 'numVotes'])"
   ]
  },
  {
   "cell_type": "code",
   "execution_count": 3,
   "metadata": {},
   "outputs": [],
   "source": [
    "top_450_most_votes = title_ratings.nlargest(450, 'numVotes')"
   ]
  },
  {
   "cell_type": "code",
   "execution_count": 4,
   "metadata": {},
   "outputs": [
    {
     "data": {
      "text/html": [
       "<div>\n",
       "<style scoped>\n",
       "    .dataframe tbody tr th:only-of-type {\n",
       "        vertical-align: middle;\n",
       "    }\n",
       "\n",
       "    .dataframe tbody tr th {\n",
       "        vertical-align: top;\n",
       "    }\n",
       "\n",
       "    .dataframe thead th {\n",
       "        text-align: right;\n",
       "    }\n",
       "</style>\n",
       "<table border=\"1\" class=\"dataframe\">\n",
       "  <thead>\n",
       "    <tr style=\"text-align: right;\">\n",
       "      <th></th>\n",
       "      <th>tconst</th>\n",
       "      <th>numVotes</th>\n",
       "    </tr>\n",
       "  </thead>\n",
       "  <tbody>\n",
       "    <tr>\n",
       "      <th>84111</th>\n",
       "      <td>tt0111161</td>\n",
       "      <td>2959184</td>\n",
       "    </tr>\n",
       "    <tr>\n",
       "      <th>257414</th>\n",
       "      <td>tt0468569</td>\n",
       "      <td>2940814</td>\n",
       "    </tr>\n",
       "    <tr>\n",
       "      <th>673661</th>\n",
       "      <td>tt1375666</td>\n",
       "      <td>2609684</td>\n",
       "    </tr>\n",
       "    <tr>\n",
       "      <th>100936</th>\n",
       "      <td>tt0137523</td>\n",
       "      <td>2391254</td>\n",
       "    </tr>\n",
       "    <tr>\n",
       "      <th>448754</th>\n",
       "      <td>tt0944947</td>\n",
       "      <td>2360921</td>\n",
       "    </tr>\n",
       "    <tr>\n",
       "      <th>83011</th>\n",
       "      <td>tt0109830</td>\n",
       "      <td>2315661</td>\n",
       "    </tr>\n",
       "    <tr>\n",
       "      <th>83894</th>\n",
       "      <td>tt0110912</td>\n",
       "      <td>2272444</td>\n",
       "    </tr>\n",
       "    <tr>\n",
       "      <th>437606</th>\n",
       "      <td>tt0903747</td>\n",
       "      <td>2228305</td>\n",
       "    </tr>\n",
       "    <tr>\n",
       "      <th>408919</th>\n",
       "      <td>tt0816692</td>\n",
       "      <td>2188340</td>\n",
       "    </tr>\n",
       "    <tr>\n",
       "      <th>98696</th>\n",
       "      <td>tt0133093</td>\n",
       "      <td>2101020</td>\n",
       "    </tr>\n",
       "  </tbody>\n",
       "</table>\n",
       "</div>"
      ],
      "text/plain": [
       "           tconst  numVotes\n",
       "84111   tt0111161   2959184\n",
       "257414  tt0468569   2940814\n",
       "673661  tt1375666   2609684\n",
       "100936  tt0137523   2391254\n",
       "448754  tt0944947   2360921\n",
       "83011   tt0109830   2315661\n",
       "83894   tt0110912   2272444\n",
       "437606  tt0903747   2228305\n",
       "408919  tt0816692   2188340\n",
       "98696   tt0133093   2101020"
      ]
     },
     "execution_count": 4,
     "metadata": {},
     "output_type": "execute_result"
    }
   ],
   "source": [
    "top_450_most_votes.head(10)"
   ]
  },
  {
   "cell_type": "code",
   "execution_count": 5,
   "metadata": {},
   "outputs": [],
   "source": [
    "filtered_movies = top_450_most_votes[\"tconst\"]"
   ]
  },
  {
   "cell_type": "code",
   "execution_count": 6,
   "metadata": {},
   "outputs": [
    {
     "data": {
      "text/plain": [
       "84111      tt0111161\n",
       "257414     tt0468569\n",
       "673661     tt1375666\n",
       "100936     tt0137523\n",
       "448754     tt0944947\n",
       "             ...    \n",
       "929895     tt2193021\n",
       "1477321    tt9376612\n",
       "217961     tt0377092\n",
       "414016     tt0831387\n",
       "472355     tt1014759\n",
       "Name: tconst, Length: 450, dtype: object"
      ]
     },
     "execution_count": 6,
     "metadata": {},
     "output_type": "execute_result"
    }
   ],
   "source": [
    "filtered_movies"
   ]
  },
  {
   "cell_type": "code",
   "execution_count": 7,
   "metadata": {},
   "outputs": [],
   "source": [
    "title_principals = pd.read_csv('data/title.principals.tsv', sep = '\\t', usecols=['tconst', 'ordering', 'nconst', 'category'])"
   ]
  },
  {
   "cell_type": "code",
   "execution_count": 8,
   "metadata": {},
   "outputs": [],
   "source": [
    "#tabla1[tabla1[\"tconst\"].isin(peliculas_filtradas)]\n",
    "new_title_principals = title_principals[title_principals[\"tconst\"].isin(filtered_movies)]"
   ]
  },
  {
   "cell_type": "code",
   "execution_count": 10,
   "metadata": {},
   "outputs": [
    {
     "data": {
      "text/plain": [
       "(9966, 4)"
      ]
     },
     "execution_count": 10,
     "metadata": {},
     "output_type": "execute_result"
    }
   ],
   "source": [
    "new_title_principals.shape"
   ]
  },
  {
   "cell_type": "code",
   "execution_count": 11,
   "metadata": {},
   "outputs": [
    {
     "data": {
      "text/plain": [
       "(88962941, 4)"
      ]
     },
     "execution_count": 11,
     "metadata": {},
     "output_type": "execute_result"
    }
   ],
   "source": [
    "title_principals.shape"
   ]
  },
  {
   "cell_type": "code",
   "execution_count": 13,
   "metadata": {},
   "outputs": [],
   "source": [
    "new_title_principals.to_csv('title_principals_reduced.csv')"
   ]
  },
  {
   "cell_type": "code",
   "execution_count": 14,
   "metadata": {},
   "outputs": [],
   "source": [
    "title_basics = pd.read_csv('data/title.basics.tsv', sep = '\\t', usecols=['tconst', 'titleType', 'primaryTitle', 'genres'])"
   ]
  },
  {
   "cell_type": "code",
   "execution_count": 15,
   "metadata": {},
   "outputs": [],
   "source": [
    "#tabla1[tabla1[\"tconst\"].isin(peliculas_filtradas)]\n",
    "new_title_basics = title_basics[title_basics[\"tconst\"].isin(filtered_movies)]"
   ]
  },
  {
   "cell_type": "code",
   "execution_count": 16,
   "metadata": {},
   "outputs": [
    {
     "data": {
      "text/plain": [
       "(450, 4)"
      ]
     },
     "execution_count": 16,
     "metadata": {},
     "output_type": "execute_result"
    }
   ],
   "source": [
    "new_title_basics.shape"
   ]
  },
  {
   "cell_type": "code",
   "execution_count": 17,
   "metadata": {},
   "outputs": [
    {
     "data": {
      "text/plain": [
       "(11217433, 4)"
      ]
     },
     "execution_count": 17,
     "metadata": {},
     "output_type": "execute_result"
    }
   ],
   "source": [
    "title_basics.shape"
   ]
  },
  {
   "cell_type": "code",
   "execution_count": 18,
   "metadata": {},
   "outputs": [],
   "source": [
    "new_title_basics.to_csv('title_basics_reduced.csv')"
   ]
  }
 ],
 "metadata": {
  "kernelspec": {
   "display_name": "data_diego",
   "language": "python",
   "name": "python3"
  },
  "language_info": {
   "codemirror_mode": {
    "name": "ipython",
    "version": 3
   },
   "file_extension": ".py",
   "mimetype": "text/x-python",
   "name": "python",
   "nbconvert_exporter": "python",
   "pygments_lexer": "ipython3",
   "version": "3.12.7"
  }
 },
 "nbformat": 4,
 "nbformat_minor": 2
}
